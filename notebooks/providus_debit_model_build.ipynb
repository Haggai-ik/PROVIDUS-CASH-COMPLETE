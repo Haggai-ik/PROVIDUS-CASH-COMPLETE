{
 "cells": [
  {
   "cell_type": "code",
   "execution_count": 141,
   "id": "0ad3721f",
   "metadata": {},
   "outputs": [],
   "source": [
    "import pandas as pd\n",
    "import numpy as np\n",
    "import matplotlib.pyplot as plt\n",
    "import seaborn as sns\n",
    "%matplotlib inline\n",
    "import pickle\n",
    "from sklearn.linear_model import LogisticRegression\n",
    "from sklearn.linear_model import LinearRegression\n",
    "from sklearn.model_selection import train_test_split\n",
    "from sklearn.preprocessing import MinMaxScaler\n",
    "from sklearn.svm import SVC\n",
    "from sklearn.tree import DecisionTreeClassifier\n",
    "from math import sqrt\n",
    "from sklearn.tree import DecisionTreeRegressor\n",
    "from sklearn.ensemble import RandomForestClassifier\n",
    "from sklearn.metrics import mean_absolute_error\n",
    "from sklearn.metrics import mean_squared_error\n",
    "from sklearn.preprocessing import PolynomialFeatures\n",
    "from sklearn.pipeline import Pipeline\n",
    "from sklearn.model_selection import cross_val_score\n",
    "from sklearn.pipeline import make_pipeline\n",
    "from sklearn.metrics import mean_absolute_error\n",
    "from sklearn.compose import ColumnTransformer\n",
    "from sklearn.metrics import confusion_matrix\n",
    "from pandasql import sqldf\n",
    "from sklearn.metrics import f1_score\n",
    "from sklearn.metrics import classification_report\n",
    "from sklearn.preprocessing import StandardScaler\n",
    "from sklearn.impute import SimpleImputer\n",
    "pd.options.mode.chained_assignment = None\n",
    "import  mysql.connector\n",
    "pd.options.display.float_format = '{:.5f}'.format"
   ]
  },
  {
   "cell_type": "code",
   "execution_count": 142,
   "id": "1b750a28",
   "metadata": {},
   "outputs": [
    {
     "name": "stdout",
     "output_type": "stream",
     "text": [
      "e don work\n"
     ]
    }
   ],
   "source": [
    "import pyodbc \n",
    "import pandas as pd\n",
    "try:\n",
    "    cnxn = pyodbc.connect('DRIVER={ODBC Driver 17 for SQL Server};SERVER=CASH-MGT-SV01;DATABASE=CashManagement;UID=cashcom_user;PWD=cash@312;')\n",
    "    cnxn.setdecoding(pyodbc.SQL_CHAR, encoding='latin1')\n",
    "    cnxn.setencoding('latin1')\n",
    "    cursor = cnxn.cursor()\n",
    "    mySql_select_Query = \"\"\"select  * from  Analytics_cash_MGT_withdrawer_B\n",
    "                          where REFERENCE_DATE <='2022-06-01'\n",
    "                             \"\"\"\n",
    "    result = cursor.execute(mySql_select_Query)\n",
    "    queryFetch = cursor.fetchall()\n",
    "    queryResults = pd.DataFrame.from_records(queryFetch, columns = [i[0] for i in cursor.description])\n",
    "    print('e don work')\n",
    "except mysql.connector.Error as error:\n",
    "    #print(error)\n",
    "    print(\"Failed to connect: You go need check am\".format(error))"
   ]
  },
  {
   "cell_type": "code",
   "execution_count": 143,
   "id": "7d75730d",
   "metadata": {},
   "outputs": [],
   "source": [
    "df=queryResults.copy()"
   ]
  },
  {
   "cell_type": "code",
   "execution_count": 144,
   "id": "79a6fd15",
   "metadata": {},
   "outputs": [
    {
     "data": {
      "text/html": [
       "<div>\n",
       "<style scoped>\n",
       "    .dataframe tbody tr th:only-of-type {\n",
       "        vertical-align: middle;\n",
       "    }\n",
       "\n",
       "    .dataframe tbody tr th {\n",
       "        vertical-align: top;\n",
       "    }\n",
       "\n",
       "    .dataframe thead th {\n",
       "        text-align: right;\n",
       "    }\n",
       "</style>\n",
       "<table border=\"1\" class=\"dataframe\">\n",
       "  <thead>\n",
       "    <tr style=\"text-align: right;\">\n",
       "      <th></th>\n",
       "      <th>REFERENCE_DATE</th>\n",
       "      <th>Branch_code</th>\n",
       "      <th>tran_crncy_code</th>\n",
       "      <th>DEBIT_1_Day_Back</th>\n",
       "      <th>DEBIT_2_Day_Back</th>\n",
       "      <th>DEBIT_3_Day_Back</th>\n",
       "      <th>DEBIT_4_Day_Back</th>\n",
       "      <th>DEBIT_5_Day_Back</th>\n",
       "      <th>DEBIT_6_Day_Back</th>\n",
       "      <th>DEBIT_7_Day_Back</th>\n",
       "      <th>...</th>\n",
       "      <th>Holiday_status_4_Day_Forward</th>\n",
       "      <th>Holiday_status_5_Day_Forward</th>\n",
       "      <th>Holiday_status_6_Day_Forward</th>\n",
       "      <th>Holiday_status_7_Day_Forward</th>\n",
       "      <th>FORCASTT_DATE</th>\n",
       "      <th>PREBUBHOL</th>\n",
       "      <th>POSTBUBHOL</th>\n",
       "      <th>DAY_MONTH</th>\n",
       "      <th>Month</th>\n",
       "      <th>FORCAST_DATE</th>\n",
       "    </tr>\n",
       "  </thead>\n",
       "  <tbody>\n",
       "    <tr>\n",
       "      <th>0</th>\n",
       "      <td>2019-06-01</td>\n",
       "      <td>206</td>\n",
       "      <td>2</td>\n",
       "      <td>0.00000</td>\n",
       "      <td>0.00000</td>\n",
       "      <td>0.00000</td>\n",
       "      <td>700.00000</td>\n",
       "      <td>0.00000</td>\n",
       "      <td>0.00000</td>\n",
       "      <td>0.00000</td>\n",
       "      <td>...</td>\n",
       "      <td>0</td>\n",
       "      <td>1</td>\n",
       "      <td>1</td>\n",
       "      <td>0</td>\n",
       "      <td>2019-06-03</td>\n",
       "      <td>4</td>\n",
       "      <td>4</td>\n",
       "      <td>3</td>\n",
       "      <td>JUNE</td>\n",
       "      <td>2019-06-03</td>\n",
       "    </tr>\n",
       "    <tr>\n",
       "      <th>1</th>\n",
       "      <td>2019-06-01</td>\n",
       "      <td>207</td>\n",
       "      <td>2</td>\n",
       "      <td>4000.00000</td>\n",
       "      <td>0.00000</td>\n",
       "      <td>0.00000</td>\n",
       "      <td>0.00000</td>\n",
       "      <td>0.00000</td>\n",
       "      <td>0.00000</td>\n",
       "      <td>0.00000</td>\n",
       "      <td>...</td>\n",
       "      <td>0</td>\n",
       "      <td>1</td>\n",
       "      <td>1</td>\n",
       "      <td>0</td>\n",
       "      <td>2019-06-03</td>\n",
       "      <td>4</td>\n",
       "      <td>4</td>\n",
       "      <td>3</td>\n",
       "      <td>JUNE</td>\n",
       "      <td>2019-06-03</td>\n",
       "    </tr>\n",
       "    <tr>\n",
       "      <th>2</th>\n",
       "      <td>2019-06-01</td>\n",
       "      <td>208</td>\n",
       "      <td>2</td>\n",
       "      <td>1500.00000</td>\n",
       "      <td>0.00000</td>\n",
       "      <td>0.00000</td>\n",
       "      <td>0.00000</td>\n",
       "      <td>0.00000</td>\n",
       "      <td>0.00000</td>\n",
       "      <td>0.00000</td>\n",
       "      <td>...</td>\n",
       "      <td>0</td>\n",
       "      <td>1</td>\n",
       "      <td>1</td>\n",
       "      <td>0</td>\n",
       "      <td>2019-06-03</td>\n",
       "      <td>4</td>\n",
       "      <td>4</td>\n",
       "      <td>3</td>\n",
       "      <td>JUNE</td>\n",
       "      <td>2019-06-03</td>\n",
       "    </tr>\n",
       "    <tr>\n",
       "      <th>3</th>\n",
       "      <td>2019-06-01</td>\n",
       "      <td>209</td>\n",
       "      <td>2</td>\n",
       "      <td>50.00000</td>\n",
       "      <td>0.00000</td>\n",
       "      <td>0.00000</td>\n",
       "      <td>0.00000</td>\n",
       "      <td>0.00000</td>\n",
       "      <td>0.00000</td>\n",
       "      <td>0.00000</td>\n",
       "      <td>...</td>\n",
       "      <td>0</td>\n",
       "      <td>1</td>\n",
       "      <td>1</td>\n",
       "      <td>0</td>\n",
       "      <td>2019-06-03</td>\n",
       "      <td>4</td>\n",
       "      <td>4</td>\n",
       "      <td>3</td>\n",
       "      <td>JUNE</td>\n",
       "      <td>2019-06-03</td>\n",
       "    </tr>\n",
       "    <tr>\n",
       "      <th>4</th>\n",
       "      <td>2019-06-01</td>\n",
       "      <td>207</td>\n",
       "      <td>1</td>\n",
       "      <td>6222700.00000</td>\n",
       "      <td>11705155.00000</td>\n",
       "      <td>0.00000</td>\n",
       "      <td>30422530.00000</td>\n",
       "      <td>13170180.00000</td>\n",
       "      <td>0.00000</td>\n",
       "      <td>0.00000</td>\n",
       "      <td>...</td>\n",
       "      <td>0</td>\n",
       "      <td>1</td>\n",
       "      <td>1</td>\n",
       "      <td>0</td>\n",
       "      <td>2019-06-03</td>\n",
       "      <td>4</td>\n",
       "      <td>4</td>\n",
       "      <td>3</td>\n",
       "      <td>JUNE</td>\n",
       "      <td>2019-06-03</td>\n",
       "    </tr>\n",
       "  </tbody>\n",
       "</table>\n",
       "<p>5 rows × 65 columns</p>\n",
       "</div>"
      ],
      "text/plain": [
       "  REFERENCE_DATE Branch_code tran_crncy_code  DEBIT_1_Day_Back  \\\n",
       "0     2019-06-01         206               2           0.00000   \n",
       "1     2019-06-01         207               2        4000.00000   \n",
       "2     2019-06-01         208               2        1500.00000   \n",
       "3     2019-06-01         209               2          50.00000   \n",
       "4     2019-06-01         207               1     6222700.00000   \n",
       "\n",
       "   DEBIT_2_Day_Back  DEBIT_3_Day_Back  DEBIT_4_Day_Back  DEBIT_5_Day_Back  \\\n",
       "0           0.00000           0.00000         700.00000           0.00000   \n",
       "1           0.00000           0.00000           0.00000           0.00000   \n",
       "2           0.00000           0.00000           0.00000           0.00000   \n",
       "3           0.00000           0.00000           0.00000           0.00000   \n",
       "4    11705155.00000           0.00000    30422530.00000    13170180.00000   \n",
       "\n",
       "   DEBIT_6_Day_Back  DEBIT_7_Day_Back  ...  Holiday_status_4_Day_Forward  \\\n",
       "0           0.00000           0.00000  ...                             0   \n",
       "1           0.00000           0.00000  ...                             0   \n",
       "2           0.00000           0.00000  ...                             0   \n",
       "3           0.00000           0.00000  ...                             0   \n",
       "4           0.00000           0.00000  ...                             0   \n",
       "\n",
       "   Holiday_status_5_Day_Forward  Holiday_status_6_Day_Forward  \\\n",
       "0                             1                             1   \n",
       "1                             1                             1   \n",
       "2                             1                             1   \n",
       "3                             1                             1   \n",
       "4                             1                             1   \n",
       "\n",
       "   Holiday_status_7_Day_Forward  FORCASTT_DATE  PREBUBHOL  POSTBUBHOL  \\\n",
       "0                             0     2019-06-03          4           4   \n",
       "1                             0     2019-06-03          4           4   \n",
       "2                             0     2019-06-03          4           4   \n",
       "3                             0     2019-06-03          4           4   \n",
       "4                             0     2019-06-03          4           4   \n",
       "\n",
       "   DAY_MONTH  Month  FORCAST_DATE  \n",
       "0          3   JUNE    2019-06-03  \n",
       "1          3   JUNE    2019-06-03  \n",
       "2          3   JUNE    2019-06-03  \n",
       "3          3   JUNE    2019-06-03  \n",
       "4          3   JUNE    2019-06-03  \n",
       "\n",
       "[5 rows x 65 columns]"
      ]
     },
     "execution_count": 144,
     "metadata": {},
     "output_type": "execute_result"
    }
   ],
   "source": [
    "df.head(5)"
   ]
  },
  {
   "cell_type": "code",
   "execution_count": 145,
   "id": "26adc1b5",
   "metadata": {},
   "outputs": [
    {
     "data": {
      "text/plain": [
       "array([Decimal('2'), Decimal('1'), Decimal('4'), Decimal('3')],\n",
       "      dtype=object)"
      ]
     },
     "execution_count": 145,
     "metadata": {},
     "output_type": "execute_result"
    }
   ],
   "source": [
    "df.tran_crncy_code.unique()"
   ]
  },
  {
   "cell_type": "code",
   "execution_count": 146,
   "id": "af83331e",
   "metadata": {},
   "outputs": [],
   "source": [
    "df = df.apply(pd.to_numeric, errors  = 'ignore', downcast = 'float')"
   ]
  },
  {
   "cell_type": "code",
   "execution_count": 147,
   "id": "59b465a6",
   "metadata": {},
   "outputs": [
    {
     "data": {
      "text/plain": [
       "array([206., 207., 208., 209., 210., 211., 202., 201., 203., 204., 205.,\n",
       "       212., 213.], dtype=float32)"
      ]
     },
     "execution_count": 147,
     "metadata": {},
     "output_type": "execute_result"
    }
   ],
   "source": [
    "df.Branch_code.unique()"
   ]
  },
  {
   "cell_type": "code",
   "execution_count": 148,
   "id": "915ee62c",
   "metadata": {},
   "outputs": [
    {
     "data": {
      "text/plain": [
       "array([2., 1., 4., 3.], dtype=float32)"
      ]
     },
     "execution_count": 148,
     "metadata": {},
     "output_type": "execute_result"
    }
   ],
   "source": [
    "df.tran_crncy_code.unique()"
   ]
  },
  {
   "cell_type": "code",
   "execution_count": 149,
   "id": "030ece8d",
   "metadata": {},
   "outputs": [],
   "source": [
    "df.FORCAST_DATE=pd.to_datetime(df.FORCAST_DATE)\n",
    "Day_name=df.FORCAST_DATE.dt.day_name()\n",
    "df['Day_name']=Day_name"
   ]
  },
  {
   "cell_type": "code",
   "execution_count": 150,
   "id": "b57efa57",
   "metadata": {},
   "outputs": [],
   "source": [
    "weekend=['Thursday', 'Friday', 'Monday', 'Wednesday', 'Tuesday']"
   ]
  },
  {
   "cell_type": "code",
   "execution_count": 151,
   "id": "29969595",
   "metadata": {},
   "outputs": [],
   "source": [
    "df=df[df.Day_name.isin(weekend)]"
   ]
  },
  {
   "cell_type": "code",
   "execution_count": 152,
   "id": "064158ef",
   "metadata": {},
   "outputs": [
    {
     "data": {
      "text/plain": [
       "0.0"
      ]
     },
     "execution_count": 152,
     "metadata": {},
     "output_type": "execute_result"
    }
   ],
   "source": [
    "df.Target_Debit.min()"
   ]
  },
  {
   "cell_type": "code",
   "execution_count": 153,
   "id": "d33b4eee",
   "metadata": {},
   "outputs": [],
   "source": [
    "df=df[['DEBIT_1_Day_Back',\n",
    "       'DEBIT_2_Day_Back', 'DEBIT_3_Day_Back', 'DEBIT_4_Day_Back',\n",
    "       'DEBIT_5_Day_Back', 'DEBIT_6_Day_Back', 'DEBIT_7_Day_Back',\n",
    "       'DEBIT_8_Day_Back', 'DEBIT_9_Day_Back', 'DEBIT_10_Day_Back',\n",
    "       'DEBIT_11_Day_Back', 'DEBIT_12_Day_Back', 'DEBIT_13_Day_Back',\n",
    "       'DEBIT_14_Day_Back', 'MAX_DEBIT_14_Day_Back', 'Min_DEBIT_14_Day_Back',\n",
    "       'Sum_DEBIT_14_Day_Back', 'Avg_DEBIT_14_Day_Back',  'NEXT_Number_1',\n",
    "       'NEXT_Number_2', 'NEXT_Number_3', 'Previous_Number_1',\n",
    "       'Previous_Number_2', 'Previous_Number_3','PREBUBHOL',\n",
    "       'POSTBUBHOL','Target_Debit']]"
   ]
  },
  {
   "cell_type": "code",
   "execution_count": 154,
   "id": "1ec7f95e",
   "metadata": {},
   "outputs": [
    {
     "data": {
      "text/plain": [
       "(35550, 27)"
      ]
     },
     "execution_count": 154,
     "metadata": {},
     "output_type": "execute_result"
    }
   ],
   "source": [
    "df.shape"
   ]
  },
  {
   "cell_type": "code",
   "execution_count": 155,
   "id": "cdb4f37e",
   "metadata": {},
   "outputs": [],
   "source": [
    "df=df[df.Target_Debit>=10000] #150942212.45639953"
   ]
  },
  {
   "cell_type": "code",
   "execution_count": 156,
   "id": "ae4f7caf",
   "metadata": {},
   "outputs": [
    {
     "data": {
      "text/plain": [
       "(16351, 27)"
      ]
     },
     "execution_count": 156,
     "metadata": {},
     "output_type": "execute_result"
    }
   ],
   "source": [
    "df.shape"
   ]
  },
  {
   "cell_type": "code",
   "execution_count": 157,
   "id": "877df4e0",
   "metadata": {},
   "outputs": [],
   "source": [
    "y=df.Target_Debit\n",
    "x=df.drop('Target_Debit',axis=1)\n",
    "x_train,x_test,y_train,y_test=train_test_split(x,y,random_state=1)\n",
    "col=list(x.select_dtypes(include=['int64','float32']).columns)"
   ]
  },
  {
   "cell_type": "code",
   "execution_count": 158,
   "id": "e687f66c",
   "metadata": {},
   "outputs": [],
   "source": [
    "\n",
    "num_cols=Pipeline(steps=[('impute',SimpleImputer(strategy='constant',fill_value=-999)),\n",
    "                         ('scaler',StandardScaler())])\n",
    "\n",
    "preprocess=ColumnTransformer(transformers=[('num_cols',num_cols,col)])\n",
    "\n",
    "pipe=Pipeline(steps=[('preprocess',preprocess),('Linear',LinearRegression())])"
   ]
  },
  {
   "cell_type": "code",
   "execution_count": 159,
   "id": "af95bcc4",
   "metadata": {},
   "outputs": [],
   "source": [
    "pipe.fit(x_train,y_train)\n",
    "prediction=pipe.predict(x_test)"
   ]
  },
  {
   "cell_type": "code",
   "execution_count": 160,
   "id": "361c8697",
   "metadata": {},
   "outputs": [
    {
     "name": "stdout",
     "output_type": "stream",
     "text": [
      "the training score is 0.7375190144104236\n",
      "the training score on test data 0.7635457906976851\n",
      "the mean absolute error is  7371950.0\n",
      "the rmse absolute error is  13121989.096594159\n"
     ]
    }
   ],
   "source": [
    "r_square_t=pipe.score(x_train,y_train)\n",
    "r_square_te=pipe.score(x_test,y_test)\n",
    "new=mean_absolute_error(y_test,prediction)\n",
    "net=mean_squared_error(y_test,prediction)\n",
    "print('the training score is',r_square_t)\n",
    "print('the training score on test data',r_square_te)\n",
    "print('the mean absolute error is ',new)\n",
    "print('the rmse absolute error is ',sqrt(net))"
   ]
  },
  {
   "cell_type": "code",
   "execution_count": 161,
   "id": "a892bc5a",
   "metadata": {},
   "outputs": [
    {
     "data": {
      "text/html": [
       "<div>\n",
       "<style scoped>\n",
       "    .dataframe tbody tr th:only-of-type {\n",
       "        vertical-align: middle;\n",
       "    }\n",
       "\n",
       "    .dataframe tbody tr th {\n",
       "        vertical-align: top;\n",
       "    }\n",
       "\n",
       "    .dataframe thead th {\n",
       "        text-align: right;\n",
       "    }\n",
       "</style>\n",
       "<table border=\"1\" class=\"dataframe\">\n",
       "  <thead>\n",
       "    <tr style=\"text-align: right;\">\n",
       "      <th></th>\n",
       "      <th>ACTUAL</th>\n",
       "      <th>PREDICTIONS</th>\n",
       "    </tr>\n",
       "  </thead>\n",
       "  <tbody>\n",
       "    <tr>\n",
       "      <th>24180</th>\n",
       "      <td>24700.00000</td>\n",
       "      <td>47212.00000</td>\n",
       "    </tr>\n",
       "    <tr>\n",
       "      <th>17553</th>\n",
       "      <td>3500000.00000</td>\n",
       "      <td>11140682.00000</td>\n",
       "    </tr>\n",
       "    <tr>\n",
       "      <th>38984</th>\n",
       "      <td>1615900.00000</td>\n",
       "      <td>3627116.00000</td>\n",
       "    </tr>\n",
       "    <tr>\n",
       "      <th>10644</th>\n",
       "      <td>12000.00000</td>\n",
       "      <td>4095560.00000</td>\n",
       "    </tr>\n",
       "    <tr>\n",
       "      <th>26368</th>\n",
       "      <td>18412200.00000</td>\n",
       "      <td>15857772.00000</td>\n",
       "    </tr>\n",
       "  </tbody>\n",
       "</table>\n",
       "</div>"
      ],
      "text/plain": [
       "              ACTUAL    PREDICTIONS\n",
       "24180    24700.00000    47212.00000\n",
       "17553  3500000.00000 11140682.00000\n",
       "38984  1615900.00000  3627116.00000\n",
       "10644    12000.00000  4095560.00000\n",
       "26368 18412200.00000 15857772.00000"
      ]
     },
     "execution_count": 161,
     "metadata": {},
     "output_type": "execute_result"
    }
   ],
   "source": [
    "final_pred=pd.DataFrame({'ACTUAL':y_test,'PREDICTIONS':prediction})\n",
    "final_pred.head(5)"
   ]
  },
  {
   "cell_type": "code",
   "execution_count": 162,
   "id": "451179ee",
   "metadata": {},
   "outputs": [],
   "source": [
    "pickle.dump(pipe,open ('providus_debit','wb'))"
   ]
  },
  {
   "cell_type": "code",
   "execution_count": null,
   "id": "7cc4078d",
   "metadata": {},
   "outputs": [],
   "source": []
  }
 ],
 "metadata": {
  "kernelspec": {
   "display_name": "Python 3 (ipykernel)",
   "language": "python",
   "name": "python3"
  },
  "language_info": {
   "codemirror_mode": {
    "name": "ipython",
    "version": 3
   },
   "file_extension": ".py",
   "mimetype": "text/x-python",
   "name": "python",
   "nbconvert_exporter": "python",
   "pygments_lexer": "ipython3",
   "version": "3.9.12"
  }
 },
 "nbformat": 4,
 "nbformat_minor": 5
}
